{
 "cells": [
  {
   "cell_type": "markdown",
   "id": "8aaaa4b9",
   "metadata": {},
   "source": [
    "Given an integer array nums, return all the triplets [nums[i], nums[j], nums[k]] such that i != j, i != k, and j != k, and nums[i] + nums[j] + nums[k] == 0.\n",
    "\n",
    "Notice that the solution set must not contain duplicate triplets.\n",
    "\n",
    " \n",
    "\n",
    "Example 1:\n",
    "\n",
    "Input: nums = [-1,0,1,2,-1,-4]\n",
    "Output: [[-1,-1,2],[-1,0,1]]\n",
    "Explanation: \n",
    "nums[0] + nums[1] + nums[2] = (-1) + 0 + 1 = 0.\n",
    "nums[1] + nums[2] + nums[4] = 0 + 1 + (-1) = 0.\n",
    "nums[0] + nums[3] + nums[4] = (-1) + 2 + (-1) = 0.\n",
    "The distinct triplets are [-1,0,1] and [-1,-1,2].\n",
    "Notice that the order of the output and the order of the triplets does not matter.\n",
    "Example 2:\n",
    "\n",
    "Input: nums = [0,1,1]\n",
    "Output: []\n",
    "Explanation: The only possible triplet does not sum up to 0.\n",
    "Example 3:\n",
    "\n",
    "Input: nums = [0,0,0]\n",
    "Output: [[0,0,0]]\n",
    "Explanation: The only possible triplet sums up to 0."
   ]
  },
  {
   "cell_type": "code",
   "execution_count": 13,
   "id": "b2f23b66",
   "metadata": {},
   "outputs": [],
   "source": [
    "def threeSum(nums):\n",
    "    result = set()\n",
    "    nums.sort()\n",
    "    \n",
    "    for i in range(0, len(nums) - 2):\n",
    "        l = i + 1\n",
    "        r = len(nums) - 1\n",
    "        while l < r:\n",
    "            summ = nums[i] + nums[l] + nums[r]\n",
    "\n",
    "            if summ == 0:\n",
    "                triplet = tuple(sorted([nums[i], nums[l], nums[r]]))\n",
    "                result.add(triplet)\n",
    "                l += 1\n",
    "                r -= 1\n",
    "            elif summ > 0:\n",
    "                r -= 1\n",
    "            else:\n",
    "                l += 1\n",
    "    return [list(char) for char in result]        "
   ]
  },
  {
   "cell_type": "code",
   "execution_count": 14,
   "id": "c91b3262",
   "metadata": {},
   "outputs": [
    {
     "data": {
      "text/plain": [
       "[[-1, 0, 1], [-1, -1, 2]]"
      ]
     },
     "execution_count": 14,
     "metadata": {},
     "output_type": "execute_result"
    }
   ],
   "source": [
    "nums = [-1,0,1,2,-1,-4]\n",
    "threeSum(nums)"
   ]
  },
  {
   "cell_type": "code",
   "execution_count": null,
   "id": "d0e3e913",
   "metadata": {},
   "outputs": [],
   "source": []
  }
 ],
 "metadata": {
  "kernelspec": {
   "display_name": "Python 3 (ipykernel)",
   "language": "python",
   "name": "python3"
  },
  "language_info": {
   "codemirror_mode": {
    "name": "ipython",
    "version": 3
   },
   "file_extension": ".py",
   "mimetype": "text/x-python",
   "name": "python",
   "nbconvert_exporter": "python",
   "pygments_lexer": "ipython3",
   "version": "3.11.4"
  }
 },
 "nbformat": 4,
 "nbformat_minor": 5
}
