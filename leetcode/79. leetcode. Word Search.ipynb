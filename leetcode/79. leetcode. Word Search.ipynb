{
 "cells": [
  {
   "cell_type": "markdown",
   "id": "2a055cc5",
   "metadata": {},
   "source": [
    "Given an m x n grid of characters board and a string word, return true if word exists in the grid.\n",
    "\n",
    "The word can be constructed from letters of sequentially adjacent cells, where adjacent cells are horizontally or vertically neighboring. The same letter cell may not be used more than once.\n",
    "\n",
    "Input: board = [[\"A\",\"B\",\"C\",\"E\"],[\"S\",\"F\",\"C\",\"S\"],[\"A\",\"D\",\"E\",\"E\"]], word = \"ABCCED\"\n",
    "Output: true\n",
    "\n",
    "board = [[\"A\",\"B\",\"C\",\"E\"],[\"S\",\"F\",\"C\",\"S\"],[\"A\",\"D\",\"E\",\"E\"]], word = \"SEE\"\n",
    "Output: true\n",
    "\n",
    "board = [[\"A\",\"B\",\"C\",\"E\"],[\"S\",\"F\",\"C\",\"S\"],[\"A\",\"D\",\"E\",\"E\"]], word = \"ABCB\"\n",
    "Output: false\n"
   ]
  },
  {
   "cell_type": "code",
   "execution_count": 16,
   "id": "3be1ddea",
   "metadata": {},
   "outputs": [],
   "source": [
    "def WordSearch(board, word):\n",
    "    b = [[0] * (len(board[0]) + 2) for _ in range(len(board) + 2)]\n",
    "    visited = [[0] * (len(board[0]) + 2) for _ in range(len(board) + 2)]\n",
    "    \n",
    "    \n",
    "    \n",
    "#     visited = [[0] * (len(board[0]) + 2) for _ in range(len(board) + 2)]\n",
    "\n",
    "#     b = [['0'] * (len(board[0]) + 2) for _ in range(len(board) + 2)]\n",
    "    \n",
    "    for i in range(len(board)):\n",
    "        for j in range(len(board[0])):\n",
    "            b[i + 1][j + 1] = board[i][j]\n",
    "            \n",
    "            \n",
    "    def dfs(n, m, count):\n",
    "        if count == len(word):\n",
    "            return True\n",
    "        if visited[n][m] == 1 or b[n][m] != word[count]:\n",
    "            return False\n",
    "        visited[n][m] = 1\n",
    "        found = (dfs(n +1, m, count + 1) or\n",
    "        dfs(n, m +1, count + 1)or\n",
    "        dfs(n - 1, m, count + 1)or\n",
    "        dfs(n, m - 1, count + 1))\n",
    "        \n",
    "        visited[n][m] = 0\n",
    "        return found\n",
    "            \n",
    "    for k in range(1, len(b) - 1):\n",
    "        for d in range(1, len(b[0]) - 1):\n",
    "            if b[k][d] == word[0]:\n",
    "                if dfs(k, d, 0):\n",
    "                    return True\n",
    "    return False            \n",
    "                       \n",
    "                       \n",
    "                       \n",
    "                       \n",
    "                       \n",
    "    \n",
    "    "
   ]
  },
  {
   "cell_type": "code",
   "execution_count": 17,
   "id": "8a80181b",
   "metadata": {},
   "outputs": [
    {
     "data": {
      "text/plain": [
       "True"
      ]
     },
     "execution_count": 17,
     "metadata": {},
     "output_type": "execute_result"
    }
   ],
   "source": [
    "board = [[\"A\",\"B\",\"C\",\"E\"],[\"S\",\"F\",\"C\",\"S\"],[\"A\",\"D\",\"E\",\"E\"]]\n",
    "word = \"ABCCED\"\n",
    "WordSearch(board, word)\n"
   ]
  },
  {
   "cell_type": "code",
   "execution_count": 18,
   "id": "64b97e96",
   "metadata": {},
   "outputs": [
    {
     "data": {
      "text/plain": [
       "True"
      ]
     },
     "execution_count": 18,
     "metadata": {},
     "output_type": "execute_result"
    }
   ],
   "source": [
    "board = [[\"A\",\"B\",\"C\",\"E\"],[\"S\",\"F\",\"C\",\"S\"],[\"A\",\"D\",\"E\",\"E\"]]\n",
    "word = \"SEE\"\n",
    "WordSearch(board, word)"
   ]
  },
  {
   "cell_type": "code",
   "execution_count": 19,
   "id": "c53cbf74",
   "metadata": {},
   "outputs": [
    {
     "data": {
      "text/plain": [
       "False"
      ]
     },
     "execution_count": 19,
     "metadata": {},
     "output_type": "execute_result"
    }
   ],
   "source": [
    "board = [[\"A\",\"B\",\"C\",\"E\"],[\"S\",\"F\",\"C\",\"S\"],[\"A\",\"D\",\"E\",\"E\"]]\n",
    "word = \"ABCB\"\n",
    "WordSearch(board, word)"
   ]
  },
  {
   "cell_type": "code",
   "execution_count": 47,
   "id": "2a720008",
   "metadata": {},
   "outputs": [],
   "source": [
    "def WordSearch(board, word):\n",
    "    \n",
    "    visited = [[0] * len(board[0]) for _ in range(len(board))]\n",
    "    \n",
    "    def dfs(n, d, count):\n",
    "        if count == len(word):\n",
    "            return True\n",
    "       \n",
    "        if n < 0 or n >= len(board) or d < 0 or d >= len(board[0]):\n",
    "            return False\n",
    "        \n",
    "        if visited[n][d] == 1 or board[n][d] != word[count]:   \n",
    "            return False\n",
    "        visited[n][d] = 1\n",
    "        f = (dfs(n, d + 1, count + 1) or dfs(n + 1, d, count + 1) or dfs(n, d - 1, count + 1) or \n",
    "        dfs(n - 1, d, count + 1))\n",
    "        visited[n][d] = 0\n",
    "        return f\n",
    "\n",
    "    for i in range(len(board)):\n",
    "        for j in range(len(board[0])):\n",
    "            if board[i][j] == word[0]:\n",
    "                if dfs(i, j, 0):\n",
    "                    return True\n",
    "    return False              "
   ]
  },
  {
   "cell_type": "code",
   "execution_count": 48,
   "id": "2d350ba3",
   "metadata": {},
   "outputs": [
    {
     "data": {
      "text/plain": [
       "True"
      ]
     },
     "execution_count": 48,
     "metadata": {},
     "output_type": "execute_result"
    }
   ],
   "source": [
    "board = [[\"A\",\"B\",\"C\",\"E\"],[\"S\",\"F\",\"C\",\"S\"],[\"A\",\"D\",\"E\",\"E\"]]\n",
    "word = \"ABCCED\"\n",
    "WordSearch(board, word)"
   ]
  },
  {
   "cell_type": "code",
   "execution_count": 49,
   "id": "b0cffbda",
   "metadata": {},
   "outputs": [
    {
     "data": {
      "text/plain": [
       "True"
      ]
     },
     "execution_count": 49,
     "metadata": {},
     "output_type": "execute_result"
    }
   ],
   "source": [
    "board = [[\"A\",\"B\",\"C\",\"E\"],[\"S\",\"F\",\"C\",\"S\"],[\"A\",\"D\",\"E\",\"E\"]]\n",
    "word = \"SEE\"\n",
    "WordSearch(board, word)"
   ]
  },
  {
   "cell_type": "code",
   "execution_count": 50,
   "id": "f25cf81a",
   "metadata": {},
   "outputs": [
    {
     "data": {
      "text/plain": [
       "False"
      ]
     },
     "execution_count": 50,
     "metadata": {},
     "output_type": "execute_result"
    }
   ],
   "source": [
    "board = [[\"A\",\"B\",\"C\",\"E\"],[\"S\",\"F\",\"C\",\"S\"],[\"A\",\"D\",\"E\",\"E\"]]\n",
    "word = \"ABCB\"\n",
    "WordSearch(board, word)"
   ]
  },
  {
   "cell_type": "code",
   "execution_count": null,
   "id": "099d1b8d",
   "metadata": {},
   "outputs": [],
   "source": []
  }
 ],
 "metadata": {
  "kernelspec": {
   "display_name": "Python 3 (ipykernel)",
   "language": "python",
   "name": "python3"
  },
  "language_info": {
   "codemirror_mode": {
    "name": "ipython",
    "version": 3
   },
   "file_extension": ".py",
   "mimetype": "text/x-python",
   "name": "python",
   "nbconvert_exporter": "python",
   "pygments_lexer": "ipython3",
   "version": "3.11.4"
  }
 },
 "nbformat": 4,
 "nbformat_minor": 5
}
