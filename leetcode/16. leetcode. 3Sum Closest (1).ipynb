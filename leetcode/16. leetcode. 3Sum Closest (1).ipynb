{
 "cells": [
  {
   "cell_type": "code",
   "execution_count": 1,
   "id": "0359bbf9",
   "metadata": {},
   "outputs": [],
   "source": [
    "def threeSumClosest(nums):\n",
    "    nums.sort()\n",
    "    result = float('inf')\n",
    "    \n",
    "    for i in range(len(nums) - 2):\n",
    "        l = i + 1\n",
    "        r = len(nums) - 1\n",
    "        while l < r:\n",
    "            summ = nums[i] + nums[l] + nums[r]\n",
    "            if summ == target:\n",
    "                return summ\n",
    "            if abs(target - summ) < abs(target - result):\n",
    "                result = summ\n",
    "            if summ > target:\n",
    "                r -= 1\n",
    "            else: \n",
    "                l += 1\n",
    "    return result              "
   ]
  },
  {
   "cell_type": "code",
   "execution_count": 2,
   "id": "6f5d9fe0",
   "metadata": {},
   "outputs": [
    {
     "data": {
      "text/plain": [
       "2"
      ]
     },
     "execution_count": 2,
     "metadata": {},
     "output_type": "execute_result"
    }
   ],
   "source": [
    "nums = [-1,2,1,-4]\n",
    "target = 1\n",
    "threeSumClosest(nums)\n"
   ]
  },
  {
   "cell_type": "code",
   "execution_count": 3,
   "id": "96b1973a",
   "metadata": {},
   "outputs": [
    {
     "data": {
      "text/plain": [
       "0"
      ]
     },
     "execution_count": 3,
     "metadata": {},
     "output_type": "execute_result"
    }
   ],
   "source": [
    "nums = [0,0,0]\n",
    "target = 1\n",
    "threeSumClosest(nums)"
   ]
  },
  {
   "cell_type": "code",
   "execution_count": null,
   "id": "ee18b47e",
   "metadata": {},
   "outputs": [],
   "source": []
  }
 ],
 "metadata": {
  "kernelspec": {
   "display_name": "Python 3 (ipykernel)",
   "language": "python",
   "name": "python3"
  },
  "language_info": {
   "codemirror_mode": {
    "name": "ipython",
    "version": 3
   },
   "file_extension": ".py",
   "mimetype": "text/x-python",
   "name": "python",
   "nbconvert_exporter": "python",
   "pygments_lexer": "ipython3",
   "version": "3.11.4"
  }
 },
 "nbformat": 4,
 "nbformat_minor": 5
}
