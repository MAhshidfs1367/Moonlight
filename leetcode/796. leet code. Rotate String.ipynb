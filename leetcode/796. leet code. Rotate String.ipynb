{
 "cells": [
  {
   "cell_type": "markdown",
   "id": "b0d5b363",
   "metadata": {},
   "source": [
    "Given two strings s and goal, return true if and only if s can become goal after some number of shifts on s.\n",
    "\n",
    "A shift on s consists of moving the leftmost character of s to the rightmost position.\n",
    "\n",
    "For example, if s = \"abcde\", then it will be \"bcdea\" after one shift."
   ]
  },
  {
   "cell_type": "code",
   "execution_count": 1,
   "id": "7eea2778",
   "metadata": {},
   "outputs": [],
   "source": [
    "def rotateString(s, goal):\n",
    "    for i in range(len(s)):\n",
    "        k = s[:1]\n",
    "        s = s[1:] + k\n",
    "        if s == goal:\n",
    "            return True\n",
    "    return False    "
   ]
  },
  {
   "cell_type": "code",
   "execution_count": 2,
   "id": "d03357ed",
   "metadata": {},
   "outputs": [
    {
     "data": {
      "text/plain": [
       "True"
      ]
     },
     "execution_count": 2,
     "metadata": {},
     "output_type": "execute_result"
    }
   ],
   "source": [
    "s = \"abcde\"\n",
    "goal = \"cdeab\"\n",
    "rotateString(s, goal)"
   ]
  },
  {
   "cell_type": "code",
   "execution_count": 3,
   "id": "283e310a",
   "metadata": {},
   "outputs": [
    {
     "data": {
      "text/plain": [
       "False"
      ]
     },
     "execution_count": 3,
     "metadata": {},
     "output_type": "execute_result"
    }
   ],
   "source": [
    " s = \"abcde\"\n",
    "goal = \"abced\"\n",
    "rotateString(s, goal)"
   ]
  },
  {
   "cell_type": "code",
   "execution_count": null,
   "id": "111c8b63",
   "metadata": {},
   "outputs": [],
   "source": []
  }
 ],
 "metadata": {
  "kernelspec": {
   "display_name": "Python 3 (ipykernel)",
   "language": "python",
   "name": "python3"
  },
  "language_info": {
   "codemirror_mode": {
    "name": "ipython",
    "version": 3
   },
   "file_extension": ".py",
   "mimetype": "text/x-python",
   "name": "python",
   "nbconvert_exporter": "python",
   "pygments_lexer": "ipython3",
   "version": "3.11.4"
  }
 },
 "nbformat": 4,
 "nbformat_minor": 5
}
