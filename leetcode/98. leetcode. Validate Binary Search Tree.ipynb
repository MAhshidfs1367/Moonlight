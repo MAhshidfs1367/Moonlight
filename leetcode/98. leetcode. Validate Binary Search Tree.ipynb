{
 "cells": [
  {
   "cell_type": "markdown",
   "id": "0dabc93e",
   "metadata": {},
   "source": [
    "Given the root of a binary tree, determine if it is a valid binary search tree (BST).\n",
    "\n",
    "A valid BST is defined as follows:\n",
    "\n",
    "The left subtree of a node contains only nodes with keys less than the node's key.\n",
    "The right subtree of a node contains only nodes with keys greater than the node's key.\n",
    "Both the left and right subtrees must also be binary search trees."
   ]
  },
  {
   "cell_type": "code",
   "execution_count": null,
   "id": "ac361099",
   "metadata": {},
   "outputs": [],
   "source": [
    "class Solution:\n",
    "    def isValidBST(root):\n",
    "        def help(node, lower, uper):\n",
    "            if not node:\n",
    "                return True\n",
    "            if node.val <= lower or node.val >= uper:\n",
    "                return False\n",
    "            l = help(node.left, lower, node.val)\n",
    "            r = help(node.right, node.val, uper)\n",
    "            return l and r\n",
    "        return help(node, float('-inf'), float('inf'))"
   ]
  }
 ],
 "metadata": {
  "kernelspec": {
   "display_name": "Python 3 (ipykernel)",
   "language": "python",
   "name": "python3"
  },
  "language_info": {
   "codemirror_mode": {
    "name": "ipython",
    "version": 3
   },
   "file_extension": ".py",
   "mimetype": "text/x-python",
   "name": "python",
   "nbconvert_exporter": "python",
   "pygments_lexer": "ipython3",
   "version": "3.11.4"
  }
 },
 "nbformat": 4,
 "nbformat_minor": 5
}
