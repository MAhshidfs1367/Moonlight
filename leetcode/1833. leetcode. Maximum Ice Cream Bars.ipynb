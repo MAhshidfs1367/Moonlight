{
 "cells": [
  {
   "cell_type": "markdown",
   "id": "c9390a0d",
   "metadata": {},
   "source": [
    "It is a sweltering summer day, and a boy wants to buy some ice cream bars.\n",
    "\n",
    "At the store, there are n ice cream bars. You are given an array costs of length n, where costs[i] is the price of the ith ice cream bar in coins. The boy initially has coins coins to spend, and he wants to buy as many ice cream bars as possible. \n",
    "\n",
    "Note: The boy can buy the ice cream bars in any order.\n",
    "\n",
    "Return the maximum number of ice cream bars the boy can buy with coins coins.\n",
    "\n",
    "You must solve the problem by counting sort.\n",
    "\n",
    " \n",
    "\n",
    "Example 1:\n",
    "\n",
    "Input: costs = [1,3,2,4,1], coins = 7\n",
    "Output: 4\n",
    "Explanation: The boy can buy ice cream bars at indices 0,1,2,4 for a total price of 1 + 3 + 2 + 1 = 7.\n",
    "Example 2:\n",
    "\n",
    "Input: costs = [10,6,8,7,7,8], coins = 5\n",
    "Output: 0\n",
    "Explanation: The boy cannot afford any of the ice cream bars.\n",
    "Example 3:\n",
    "\n",
    "Input: costs = [1,6,3,1,2,5], coins = 20\n",
    "Output: 6\n",
    "Explanation: The boy can buy all the ice cream bars for a total price of 1 + 6 + 3 + 1 + 2 + 5 = 18."
   ]
  },
  {
   "cell_type": "code",
   "execution_count": 2,
   "id": "bfb3e28e",
   "metadata": {},
   "outputs": [],
   "source": [
    "def MaximumIceCreamBars(costs, coins):\n",
    "    totalsum = 0\n",
    "    count = 0\n",
    "    p = sorted(costs)\n",
    "    for cost in p:\n",
    "        totalsum += cost\n",
    "        if totalsum <= coins:\n",
    "            count += 1\n",
    "        else:\n",
    "            return count\n",
    "    return count    "
   ]
  },
  {
   "cell_type": "code",
   "execution_count": 3,
   "id": "55c556a3",
   "metadata": {},
   "outputs": [
    {
     "data": {
      "text/plain": [
       "4"
      ]
     },
     "execution_count": 3,
     "metadata": {},
     "output_type": "execute_result"
    }
   ],
   "source": [
    "costs = [1,3,2,4,1]\n",
    "coins = 7\n",
    "MaximumIceCreamBars(costs, coins)"
   ]
  },
  {
   "cell_type": "code",
   "execution_count": 4,
   "id": "75935ba8",
   "metadata": {},
   "outputs": [
    {
     "data": {
      "text/plain": [
       "0"
      ]
     },
     "execution_count": 4,
     "metadata": {},
     "output_type": "execute_result"
    }
   ],
   "source": [
    "costs = [10,6,8,7,7,8]\n",
    "coins = 5\n",
    "MaximumIceCreamBars(costs, coins)"
   ]
  },
  {
   "cell_type": "code",
   "execution_count": 5,
   "id": "d8a1bb7f",
   "metadata": {},
   "outputs": [
    {
     "data": {
      "text/plain": [
       "6"
      ]
     },
     "execution_count": 5,
     "metadata": {},
     "output_type": "execute_result"
    }
   ],
   "source": [
    "costs = [1,6,3,1,2,5]\n",
    "coins = 20\n",
    "MaximumIceCreamBars(costs, coins)"
   ]
  },
  {
   "cell_type": "code",
   "execution_count": null,
   "id": "fa4ae45f",
   "metadata": {},
   "outputs": [],
   "source": []
  }
 ],
 "metadata": {
  "kernelspec": {
   "display_name": "Python 3 (ipykernel)",
   "language": "python",
   "name": "python3"
  },
  "language_info": {
   "codemirror_mode": {
    "name": "ipython",
    "version": 3
   },
   "file_extension": ".py",
   "mimetype": "text/x-python",
   "name": "python",
   "nbconvert_exporter": "python",
   "pygments_lexer": "ipython3",
   "version": "3.11.4"
  }
 },
 "nbformat": 4,
 "nbformat_minor": 5
}
