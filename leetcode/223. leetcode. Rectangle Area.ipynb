{
 "cells": [
  {
   "cell_type": "code",
   "execution_count": 1,
   "id": "90ea693b",
   "metadata": {},
   "outputs": [],
   "source": [
    "def computeArea(ax1, ay1, ax2, ay2, bx1, by1, bx2, by2):\n",
    "    s_a = (ax2 - ax1) * (ay2 - ay1)\n",
    "    s_b = (bx2 - bx1) * (by2 - by1)\n",
    "    max_x = max(ax1, bx1)\n",
    "    min_x = min(ax2, bx2)\n",
    "    max_y = max(ay1, by1)\n",
    "    min_y = min(ay2, by2)\n",
    "    s_cover = max(0,(min_x - max_x)) * max(0, (min_y-max_y))\n",
    "    return s_a + s_b - s_cover"
   ]
  },
  {
   "cell_type": "code",
   "execution_count": 3,
   "id": "08b5eb68",
   "metadata": {},
   "outputs": [
    {
     "data": {
      "text/plain": [
       "45"
      ]
     },
     "execution_count": 3,
     "metadata": {},
     "output_type": "execute_result"
    }
   ],
   "source": [
    "ax1 = -3\n",
    "ay1 = 0\n",
    "ax2 = 3\n",
    "ay2 = 4\n",
    "bx1 = 0\n",
    "by1 = -1\n",
    "bx2 = 9\n",
    "by2 = 2\n",
    "computeArea(ax1, ay1, ax2, ay2, bx1, by1, bx2, by2)"
   ]
  },
  {
   "cell_type": "code",
   "execution_count": 4,
   "id": "88ea9e5e",
   "metadata": {},
   "outputs": [
    {
     "data": {
      "text/plain": [
       "16"
      ]
     },
     "execution_count": 4,
     "metadata": {},
     "output_type": "execute_result"
    }
   ],
   "source": [
    "ax1 = -2\n",
    "ay1 = -2\n",
    "ax2 = 2\n",
    "ay2 = 2\n",
    "bx1 = -2\n",
    "by1 = -2\n",
    "bx2 = 2\n",
    "by2 = 2\n",
    "computeArea(ax1, ay1, ax2, ay2, bx1, by1, bx2, by2)"
   ]
  },
  {
   "cell_type": "code",
   "execution_count": null,
   "id": "6b85d4b5",
   "metadata": {},
   "outputs": [],
   "source": []
  }
 ],
 "metadata": {
  "kernelspec": {
   "display_name": "Python 3 (ipykernel)",
   "language": "python",
   "name": "python3"
  },
  "language_info": {
   "codemirror_mode": {
    "name": "ipython",
    "version": 3
   },
   "file_extension": ".py",
   "mimetype": "text/x-python",
   "name": "python",
   "nbconvert_exporter": "python",
   "pygments_lexer": "ipython3",
   "version": "3.11.4"
  }
 },
 "nbformat": 4,
 "nbformat_minor": 5
}
