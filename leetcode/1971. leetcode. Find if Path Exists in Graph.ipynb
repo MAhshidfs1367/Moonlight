{
 "cells": [
  {
   "cell_type": "markdown",
   "id": "91bdc52a",
   "metadata": {},
   "source": [
    "There is a bi-directional graph with n vertices, where each vertex is labeled from 0 to n - 1 (inclusive). The edges in the graph are represented as a 2D integer array edges, where each edges[i] = [ui, vi] denotes a bi-directional edge between vertex ui and vertex vi. Every vertex pair is connected by at most one edge, and no vertex has an edge to itself.\n",
    "\n",
    "You want to determine if there is a valid path that exists from vertex source to vertex destination.\n",
    "\n",
    "Given edges and the integers n, source, and destination, return true if there is a valid path from source to destination, or false otherwise."
   ]
  },
  {
   "cell_type": "markdown",
   "id": "3ca194fc",
   "metadata": {},
   "source": [
    "Example 1:\n",
    "\n",
    "\n",
    "Input: n = 3, edges = [[0,1],[1,2],[2,0]], source = 0, destination = 2\n",
    "Output: true\n",
    "Explanation: There are two paths from vertex 0 to vertex 2:\n",
    "- 0 → 1 → 2\n",
    "- 0 → 2"
   ]
  },
  {
   "cell_type": "code",
   "execution_count": 3,
   "id": "d1af3a5c",
   "metadata": {},
   "outputs": [],
   "source": [
    "def validPath(edges, source, destination):\n",
    "    graph = {}\n",
    "    for u, v in edges:\n",
    "        if u not in graph:\n",
    "            graph[u] = []\n",
    "        if v not in graph:\n",
    "            graph[v] = []\n",
    "        graph[u].append(v)\n",
    "        graph[v].append(u)\n",
    "    visited = set()    \n",
    "    def dfs(curr):\n",
    "        if curr == destination:\n",
    "            return True\n",
    "        if curr not in visited:\n",
    "            visited.add(curr)\n",
    "            for neighbor in graph[curr]:\n",
    "                if neighbor not in visited:\n",
    "                    dfs(neighbor)\n",
    "                    if dfs(neighbor):\n",
    "                        return True\n",
    "        return False \n",
    "    return dfs(source)"
   ]
  },
  {
   "cell_type": "code",
   "execution_count": 4,
   "id": "64b0d053",
   "metadata": {},
   "outputs": [
    {
     "data": {
      "text/plain": [
       "True"
      ]
     },
     "execution_count": 4,
     "metadata": {},
     "output_type": "execute_result"
    }
   ],
   "source": [
    "edges = [[0,1],[1,2],[2,0]]\n",
    "source = 0\n",
    "destination = 2\n",
    "validPath(edges, source, destination)"
   ]
  },
  {
   "cell_type": "code",
   "execution_count": 5,
   "id": "b44cb2e0",
   "metadata": {},
   "outputs": [
    {
     "data": {
      "text/plain": [
       "False"
      ]
     },
     "execution_count": 5,
     "metadata": {},
     "output_type": "execute_result"
    }
   ],
   "source": [
    "edges = [[0,1],[0,2],[3,5],[5,4],[4,3]]\n",
    "source = 0\n",
    "destination = 5\n",
    "validPath(edges, source, destination)"
   ]
  },
  {
   "cell_type": "code",
   "execution_count": null,
   "id": "00b5eebc",
   "metadata": {},
   "outputs": [],
   "source": []
  }
 ],
 "metadata": {
  "kernelspec": {
   "display_name": "Python 3 (ipykernel)",
   "language": "python",
   "name": "python3"
  },
  "language_info": {
   "codemirror_mode": {
    "name": "ipython",
    "version": 3
   },
   "file_extension": ".py",
   "mimetype": "text/x-python",
   "name": "python",
   "nbconvert_exporter": "python",
   "pygments_lexer": "ipython3",
   "version": "3.11.4"
  }
 },
 "nbformat": 4,
 "nbformat_minor": 5
}
