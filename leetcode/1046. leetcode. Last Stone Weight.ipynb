{
 "cells": [
  {
   "cell_type": "code",
   "execution_count": 1,
   "id": "213c30b5",
   "metadata": {},
   "outputs": [],
   "source": [
    "def lastStoneWeight(stones):\n",
    "    stones.sort()\n",
    "    while len(stones) > 1:\n",
    "        k = stones.pop()\n",
    "        m = stones.pop()\n",
    "        \n",
    "        if k == m:\n",
    "            continue\n",
    "        else:\n",
    "            stones.append(k - m)\n",
    "            stones.sort()\n",
    "    if len(stones) == 1:\n",
    "        return stones[0]\n",
    "    else:\n",
    "        return 0"
   ]
  },
  {
   "cell_type": "code",
   "execution_count": 4,
   "id": "989a0b04",
   "metadata": {},
   "outputs": [],
   "source": [
    "def lastStoneWeight(stones):\n",
    "    stones.sort()\n",
    "    while len(stones) > 1:\n",
    "        k = stones.pop()\n",
    "        m = stones.pop()\n",
    "\n",
    "        if k != m:\n",
    "            stones.append(k - m)\n",
    "            stones.sort()\n",
    "    if len(stones) == 1:\n",
    "        return stones[0]\n",
    "    else:\n",
    "        return 0"
   ]
  },
  {
   "cell_type": "code",
   "execution_count": 5,
   "id": "189a41d5",
   "metadata": {},
   "outputs": [
    {
     "data": {
      "text/plain": [
       "1"
      ]
     },
     "execution_count": 5,
     "metadata": {},
     "output_type": "execute_result"
    }
   ],
   "source": [
    "stones = [2,7,4,1,8,1]\n",
    "lastStoneWeight(stones)"
   ]
  },
  {
   "cell_type": "code",
   "execution_count": 6,
   "id": "1753d0ea",
   "metadata": {},
   "outputs": [
    {
     "data": {
      "text/plain": [
       "1"
      ]
     },
     "execution_count": 6,
     "metadata": {},
     "output_type": "execute_result"
    }
   ],
   "source": [
    "stones = [1]\n",
    "lastStoneWeight(stones)"
   ]
  },
  {
   "cell_type": "code",
   "execution_count": null,
   "id": "efb3bcd4",
   "metadata": {},
   "outputs": [],
   "source": []
  }
 ],
 "metadata": {
  "kernelspec": {
   "display_name": "Python 3 (ipykernel)",
   "language": "python",
   "name": "python3"
  },
  "language_info": {
   "codemirror_mode": {
    "name": "ipython",
    "version": 3
   },
   "file_extension": ".py",
   "mimetype": "text/x-python",
   "name": "python",
   "nbconvert_exporter": "python",
   "pygments_lexer": "ipython3",
   "version": "3.11.4"
  }
 },
 "nbformat": 4,
 "nbformat_minor": 5
}
