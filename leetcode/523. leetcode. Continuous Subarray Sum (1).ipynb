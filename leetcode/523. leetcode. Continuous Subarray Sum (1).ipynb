{
 "cells": [
  {
   "cell_type": "markdown",
   "id": "6d8f7432",
   "metadata": {},
   "source": [
    "Given an integer array nums and an integer k, return true if nums has a good subarray or false otherwise.\n",
    "\n",
    "A good subarray is a subarray where:\n",
    "\n",
    "its length is at least two, and\n",
    "the sum of the elements of the subarray is a multiple of k.\n",
    "Note that:\n",
    "\n",
    "A subarray is a contiguous part of the array.\n",
    "An integer x is a multiple of k if there exists an integer n such that x = n * k. 0 is always a multiple of k.\n"
   ]
  },
  {
   "cell_type": "code",
   "execution_count": 1,
   "id": "dfd0234a",
   "metadata": {},
   "outputs": [],
   "source": [
    "def checkSubarraySum(nums):\n",
    "    summ = 0\n",
    "    dictt = {}\n",
    "    \n",
    "    for i in range(len(nums)):\n",
    "        summ += nums[i]\n",
    "        res = summ % k\n",
    "        if res == 0 and i > 0:\n",
    "            return True\n",
    "        if res in dictt:\n",
    "            if i - dictt[res] > 1:\n",
    "                return True\n",
    "        else:\n",
    "            dictt[res] = i\n",
    "    return False        \n"
   ]
  },
  {
   "cell_type": "code",
   "execution_count": 2,
   "id": "01fcb02d",
   "metadata": {},
   "outputs": [
    {
     "data": {
      "text/plain": [
       "True"
      ]
     },
     "execution_count": 2,
     "metadata": {},
     "output_type": "execute_result"
    }
   ],
   "source": [
    "nums = [23,2,4,6,7]\n",
    "k = 6\n",
    "checkSubarraySum(nums)"
   ]
  },
  {
   "cell_type": "code",
   "execution_count": 3,
   "id": "81159ba6",
   "metadata": {},
   "outputs": [
    {
     "data": {
      "text/plain": [
       "True"
      ]
     },
     "execution_count": 3,
     "metadata": {},
     "output_type": "execute_result"
    }
   ],
   "source": [
    "nums = [23,2,6,4,7]\n",
    "k = 6\n",
    "checkSubarraySum(nums)"
   ]
  },
  {
   "cell_type": "code",
   "execution_count": 4,
   "id": "2305ea05",
   "metadata": {},
   "outputs": [
    {
     "data": {
      "text/plain": [
       "False"
      ]
     },
     "execution_count": 4,
     "metadata": {},
     "output_type": "execute_result"
    }
   ],
   "source": [
    "nums = [23,2,6,4,7]\n",
    "k = 13\n",
    "checkSubarraySum(nums)"
   ]
  }
 ],
 "metadata": {
  "kernelspec": {
   "display_name": "Python 3 (ipykernel)",
   "language": "python",
   "name": "python3"
  },
  "language_info": {
   "codemirror_mode": {
    "name": "ipython",
    "version": 3
   },
   "file_extension": ".py",
   "mimetype": "text/x-python",
   "name": "python",
   "nbconvert_exporter": "python",
   "pygments_lexer": "ipython3",
   "version": "3.11.4"
  }
 },
 "nbformat": 4,
 "nbformat_minor": 5
}
