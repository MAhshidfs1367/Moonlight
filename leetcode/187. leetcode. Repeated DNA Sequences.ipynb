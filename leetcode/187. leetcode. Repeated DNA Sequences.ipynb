{
 "cells": [
  {
   "cell_type": "code",
   "execution_count": 5,
   "id": "635ab35c",
   "metadata": {},
   "outputs": [],
   "source": [
    "def RepeatedDNASequences(s):\n",
    "    d = {}\n",
    "    result = []\n",
    "    \n",
    "    for i in range(len(s) - 9):\n",
    "        if s[i: i + 10 ] in d:\n",
    "            d[s[i: i + 10 ]] += 1\n",
    "        else:\n",
    "            d[s[i: i + 10 ]] = 1\n",
    "    for key in d.keys():\n",
    "        if d[key] >= 2:\n",
    "            result. append(key)\n",
    "    return result        "
   ]
  },
  {
   "cell_type": "code",
   "execution_count": 6,
   "id": "61a5edd4",
   "metadata": {},
   "outputs": [
    {
     "data": {
      "text/plain": [
       "['AAAAACCCCC', 'CCCCCAAAAA']"
      ]
     },
     "execution_count": 6,
     "metadata": {},
     "output_type": "execute_result"
    }
   ],
   "source": [
    "s = \"AAAAACCCCCAAAAACCCCCCAAAAAGGGTTT\"\n",
    "RepeatedDNASequences(s)\n"
   ]
  },
  {
   "cell_type": "code",
   "execution_count": 7,
   "id": "e925000f",
   "metadata": {},
   "outputs": [
    {
     "data": {
      "text/plain": [
       "['AAAAAAAAAA']"
      ]
     },
     "execution_count": 7,
     "metadata": {},
     "output_type": "execute_result"
    }
   ],
   "source": [
    "s = \"AAAAAAAAAAAAA\"\n",
    "RepeatedDNASequences(s)"
   ]
  },
  {
   "cell_type": "code",
   "execution_count": null,
   "id": "8781f73f",
   "metadata": {},
   "outputs": [],
   "source": []
  }
 ],
 "metadata": {
  "kernelspec": {
   "display_name": "Python 3 (ipykernel)",
   "language": "python",
   "name": "python3"
  },
  "language_info": {
   "codemirror_mode": {
    "name": "ipython",
    "version": 3
   },
   "file_extension": ".py",
   "mimetype": "text/x-python",
   "name": "python",
   "nbconvert_exporter": "python",
   "pygments_lexer": "ipython3",
   "version": "3.11.4"
  }
 },
 "nbformat": 4,
 "nbformat_minor": 5
}
