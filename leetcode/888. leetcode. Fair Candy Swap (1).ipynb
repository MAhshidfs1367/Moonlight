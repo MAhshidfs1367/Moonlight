{
 "cells": [
  {
   "cell_type": "markdown",
   "id": "b206739f",
   "metadata": {},
   "source": [
    "Alice and Bob have a different total number of candies. You are given two integer arrays aliceSizes and bobSizes where aliceSizes[i] is the number of candies of the ith box of candy that Alice has and bobSizes[j] is the number of candies of the jth box of candy that Bob has.\n",
    "\n",
    "Since they are friends, they would like to exchange one candy box each so that after the exchange, they both have the same total amount of candy. The total amount of candy a person has is the sum of the number of candies in each box they have.\n",
    "\n",
    "Return an integer array answer where answer[0] is the number of candies in the box that Alice must exchange, and answer[1] is the number of candies in the box that Bob must exchange. If there are multiple answers, you may return any one of them. It is guaranteed that at least one answer exists."
   ]
  },
  {
   "cell_type": "code",
   "execution_count": 10,
   "id": "213277eb",
   "metadata": {},
   "outputs": [],
   "source": [
    "def fairCandySwap(aliceSizes, bobSizes):\n",
    "    sa = sum(aliceSizes)\n",
    "    sb = sum(bobSizes)\n",
    "    \n",
    "    for aliceSize in aliceSizes:\n",
    "        y = aliceSize + (sb - sa)/2\n",
    "        if y in bobSizes:\n",
    "            return (aliceSize, y)"
   ]
  },
  {
   "cell_type": "code",
   "execution_count": 11,
   "id": "f9eaa7cd",
   "metadata": {},
   "outputs": [
    {
     "data": {
      "text/plain": [
       "(2, 3.0)"
      ]
     },
     "execution_count": 11,
     "metadata": {},
     "output_type": "execute_result"
    }
   ],
   "source": [
    "aliceSizes = [2]\n",
    "bobSizes = [1,3]\n",
    "fairCandySwap(aliceSizes, bobSizes)"
   ]
  },
  {
   "cell_type": "code",
   "execution_count": null,
   "id": "99f5d683",
   "metadata": {},
   "outputs": [],
   "source": []
  }
 ],
 "metadata": {
  "kernelspec": {
   "display_name": "Python 3 (ipykernel)",
   "language": "python",
   "name": "python3"
  },
  "language_info": {
   "codemirror_mode": {
    "name": "ipython",
    "version": 3
   },
   "file_extension": ".py",
   "mimetype": "text/x-python",
   "name": "python",
   "nbconvert_exporter": "python",
   "pygments_lexer": "ipython3",
   "version": "3.11.4"
  }
 },
 "nbformat": 4,
 "nbformat_minor": 5
}
