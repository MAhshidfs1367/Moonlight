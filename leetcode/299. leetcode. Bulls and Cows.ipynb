{
 "cells": [
  {
   "cell_type": "markdown",
   "id": "62cd14e2",
   "metadata": {},
   "source": [
    "You are playing the Bulls and Cows game with your friend.\n",
    "\n",
    "You write down a secret number and ask your friend to guess what the number is. When your friend makes a guess, you provide a hint with the following info:\n",
    "\n",
    "The number of \"bulls\", which are digits in the guess that are in the correct position.\n",
    "The number of \"cows\", which are digits in the guess that are in your secret number but are located in the wrong position. Specifically, the non-bull digits in the guess that could be rearranged such that they become bulls.\n",
    "Given the secret number secret and your friend's guess guess, return the hint for your friend's guess.\n",
    "\n",
    "The hint should be formatted as \"xAyB\", where x is the number of bulls and y is the number of cows. Note that both secret and guess may contain duplicate digits.\n",
    "\n",
    " \n",
    "\n",
    "Example 1:\n",
    "\n",
    "Input: secret = \"1807\", guess = \"7810\"\n",
    "Output: \"1A3B\"\n",
    "Explanation: Bulls are connected with a '|' and cows are underlined:\n",
    "\"1807\"\n",
    "  |\n",
    "\"7810\"\n",
    "Example 2:\n",
    "\n",
    "Input: secret = \"1123\", guess = \"0111\"\n",
    "Output: \"1A1B\"\n",
    "Explanation: Bulls are connected with a '|' and cows are underlined:\n",
    "\"1123\"        \"1123\"\n",
    "  |      or     |\n",
    "\"0111\"        \"0111\"\n",
    "Note that only one of the two unmatched 1s is counted as a cow since the non-bull digits can only be rearranged to allow one 1 to be a bull.\n"
   ]
  },
  {
   "cell_type": "code",
   "execution_count": 4,
   "id": "4505d798",
   "metadata": {},
   "outputs": [],
   "source": [
    "def BullsandCows(secret, guess):\n",
    "    x = 0\n",
    "    y = 0\n",
    "    secret1 = []\n",
    "    guess1 = []\n",
    "    \n",
    "    for i in range(len(secret)):\n",
    "        if secret[i] == guess[i]:\n",
    "            x += 1\n",
    "        else:\n",
    "            secret1.append(secret[i])\n",
    "            guess1.append(guess[i])\n",
    "    for num in guess1:\n",
    "        if num in secret1:\n",
    "            y += 1\n",
    "            secret1.remove(num)\n",
    "    return str(x) + \"A\" + str(y) + \"B\"  \n",
    "    #return f\"{x}A{y}B\"\n",
    "#     f = \"\"\n",
    "#     f += str(x)\n",
    "#     f += \"A\"\n",
    "#     f += str(y)\n",
    "#     f += \"B\"\n",
    "#     return f"
   ]
  },
  {
   "cell_type": "code",
   "execution_count": 5,
   "id": "bacc6610",
   "metadata": {},
   "outputs": [
    {
     "data": {
      "text/plain": [
       "'1A3B'"
      ]
     },
     "execution_count": 5,
     "metadata": {},
     "output_type": "execute_result"
    }
   ],
   "source": [
    "secret = \"1807\"\n",
    "guess = \"7810\"\n",
    "BullsandCows(secret, guess)"
   ]
  },
  {
   "cell_type": "code",
   "execution_count": 6,
   "id": "38ac1485",
   "metadata": {},
   "outputs": [
    {
     "data": {
      "text/plain": [
       "'1A1B'"
      ]
     },
     "execution_count": 6,
     "metadata": {},
     "output_type": "execute_result"
    }
   ],
   "source": [
    "secret = \"1123\"\n",
    "guess = \"0111\"\n",
    "BullsandCows(secret, guess)"
   ]
  },
  {
   "cell_type": "code",
   "execution_count": null,
   "id": "0f959c19",
   "metadata": {},
   "outputs": [],
   "source": []
  }
 ],
 "metadata": {
  "kernelspec": {
   "display_name": "Python 3 (ipykernel)",
   "language": "python",
   "name": "python3"
  },
  "language_info": {
   "codemirror_mode": {
    "name": "ipython",
    "version": 3
   },
   "file_extension": ".py",
   "mimetype": "text/x-python",
   "name": "python",
   "nbconvert_exporter": "python",
   "pygments_lexer": "ipython3",
   "version": "3.11.4"
  }
 },
 "nbformat": 4,
 "nbformat_minor": 5
}
