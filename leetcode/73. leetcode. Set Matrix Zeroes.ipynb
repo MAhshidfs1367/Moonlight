{
 "cells": [
  {
   "cell_type": "markdown",
   "id": "3244bee2",
   "metadata": {},
   "source": [
    "Given an m x n integer matrix matrix, if an element is 0, set its entire row and column to 0's.\n",
    "\n",
    "You must do it in place."
   ]
  },
  {
   "cell_type": "markdown",
   "id": "a02ed429",
   "metadata": {},
   "source": [
    "First, I want to do it in a non-in-place manner."
   ]
  },
  {
   "cell_type": "code",
   "execution_count": 3,
   "id": "7abdd75f",
   "metadata": {},
   "outputs": [],
   "source": [
    "import copy\n",
    "\n",
    "def setZeroes(matrix):\n",
    "            create_matrix = copy.deepcopy(matrix)\n",
    "\n",
    "            for i in range(len(matrix)):\n",
    "                for j in range(len(matrix[0])):\n",
    "                    if matrix[i][j] == 0:\n",
    "                        k = i\n",
    "                        l = j\n",
    "                        for x in range(len(matrix)):\n",
    "                            create_matrix[x][l] = 0\n",
    "                        for y in range(len(matrix[0])):\n",
    "                            create_matrix[k][y] = 0\n",
    "            return create_matrix"
   ]
  },
  {
   "cell_type": "code",
   "execution_count": 4,
   "id": "88328828",
   "metadata": {},
   "outputs": [
    {
     "data": {
      "text/plain": [
       "[[1, 0, 1], [0, 0, 0], [1, 0, 1]]"
      ]
     },
     "execution_count": 4,
     "metadata": {},
     "output_type": "execute_result"
    }
   ],
   "source": [
    "matrix = [[1,1,1],[1,0,1],[1,1,1]]\n",
    "setZeroes(matrix)\n"
   ]
  },
  {
   "cell_type": "markdown",
   "id": "f1df586a",
   "metadata": {},
   "source": [
    "correct answer:\n",
    "[[1,0,1],[0,0,0],[1,0,1]]    "
   ]
  },
  {
   "cell_type": "code",
   "execution_count": 5,
   "id": "a1cf52f2",
   "metadata": {},
   "outputs": [
    {
     "data": {
      "text/plain": [
       "[[0, 0, 0, 0], [0, 4, 5, 0], [0, 3, 1, 0]]"
      ]
     },
     "execution_count": 5,
     "metadata": {},
     "output_type": "execute_result"
    }
   ],
   "source": [
    "matrix = [[0,1,2,0],[3,4,5,2],[1,3,1,5]]\n",
    "setZeroes(matrix)\n"
   ]
  },
  {
   "cell_type": "markdown",
   "id": "f67d5220",
   "metadata": {},
   "source": [
    "correct answer:\n",
    "[[0,0,0,0],[0,4,5,0],[0,3,1,0]]    "
   ]
  },
  {
   "cell_type": "markdown",
   "id": "0ef67d76",
   "metadata": {},
   "source": [
    "Second I want to do it in place."
   ]
  },
  {
   "cell_type": "code",
   "execution_count": 12,
   "id": "e82df59d",
   "metadata": {},
   "outputs": [],
   "source": [
    "def setZeroes(matrix):\n",
    "    m = len(matrix)\n",
    "    n = len(matrix[0])\n",
    "    zero = []\n",
    "    \n",
    "    for i in range(m):\n",
    "        for j in range(n):\n",
    "            if matrix[i][j] == 0:\n",
    "                zero.append([i,j])\n",
    "    for cell in zero:\n",
    "        k = cell[0]\n",
    "        s = cell[1]\n",
    "        for j in range(n):\n",
    "            matrix[k][j] = 0\n",
    "        for i in range(m):\n",
    "            matrix[i][s] = 0\n",
    "    return matrix        \n",
    "                "
   ]
  },
  {
   "cell_type": "code",
   "execution_count": 13,
   "id": "414b6775",
   "metadata": {},
   "outputs": [
    {
     "data": {
      "text/plain": [
       "[[0, 0, 0, 0], [0, 4, 5, 0], [0, 3, 1, 0]]"
      ]
     },
     "execution_count": 13,
     "metadata": {},
     "output_type": "execute_result"
    }
   ],
   "source": [
    "matrix = [[0,1,2,0],[3,4,5,2],[1,3,1,5]]\n",
    "setZeroes(matrix)"
   ]
  },
  {
   "cell_type": "code",
   "execution_count": null,
   "id": "3dc901b5",
   "metadata": {},
   "outputs": [],
   "source": []
  }
 ],
 "metadata": {
  "kernelspec": {
   "display_name": "Python 3 (ipykernel)",
   "language": "python",
   "name": "python3"
  },
  "language_info": {
   "codemirror_mode": {
    "name": "ipython",
    "version": 3
   },
   "file_extension": ".py",
   "mimetype": "text/x-python",
   "name": "python",
   "nbconvert_exporter": "python",
   "pygments_lexer": "ipython3",
   "version": "3.11.4"
  }
 },
 "nbformat": 4,
 "nbformat_minor": 5
}
