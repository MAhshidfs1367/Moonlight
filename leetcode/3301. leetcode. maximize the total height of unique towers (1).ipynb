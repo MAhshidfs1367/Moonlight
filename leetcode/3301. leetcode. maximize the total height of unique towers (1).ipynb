{
 "cells": [
  {
   "cell_type": "markdown",
   "id": "6cdabf90",
   "metadata": {},
   "source": [
    "You are given an array maximumHeight, where maximumHeight[i] denotes the maximum height the ith tower can be assigned.\n",
    "\n",
    "Your task is to assign a height to each tower so that:\n",
    "\n",
    "The height of the ith tower is a positive integer and does not exceed maximumHeight[i].\n",
    "No two towers have the same height.\n",
    "Return the maximum possible total sum of the tower heights. If it's not possible to assign heights, return -1."
   ]
  },
  {
   "cell_type": "code",
   "execution_count": 1,
   "id": "58445680",
   "metadata": {},
   "outputs": [],
   "source": [
    "def maximumTotalSum(maximumHeight) -> int:\n",
    "        result = 0\n",
    "        maximumHeight.sort(reverse=True)\n",
    "        max_number = float('inf')\n",
    "\n",
    "        for height in maximumHeight:\n",
    "            if height >= max_number:\n",
    "                height = max_number - 1 \n",
    "            \n",
    "            if height <= 0:\n",
    "                return -1\n",
    "\n",
    "            max_number = height\n",
    "            result += height    \n",
    "\n",
    "        return result"
   ]
  },
  {
   "cell_type": "code",
   "execution_count": 2,
   "id": "b19b54a3",
   "metadata": {},
   "outputs": [
    {
     "data": {
      "text/plain": [
       "-1"
      ]
     },
     "execution_count": 2,
     "metadata": {},
     "output_type": "execute_result"
    }
   ],
   "source": [
    "maximumHeight =[2,2,1]\n",
    "maximumTotalSum(maximumHeight)"
   ]
  },
  {
   "cell_type": "code",
   "execution_count": 3,
   "id": "a8380624",
   "metadata": {},
   "outputs": [
    {
     "data": {
      "text/plain": [
       "-1"
      ]
     },
     "execution_count": 3,
     "metadata": {},
     "output_type": "execute_result"
    }
   ],
   "source": [
    "maximumHeight =[7, 6, 6, 6, 6, 5, 3, 2]\n",
    "maximumTotalSum(maximumHeight)"
   ]
  },
  {
   "cell_type": "code",
   "execution_count": 4,
   "id": "0ca94cf6",
   "metadata": {},
   "outputs": [
    {
     "data": {
      "text/plain": [
       "10"
      ]
     },
     "execution_count": 4,
     "metadata": {},
     "output_type": "execute_result"
    }
   ],
   "source": [
    "maximumHeight = [2,3,4,3]\n",
    "maximumTotalSum(maximumHeight)"
   ]
  },
  {
   "cell_type": "code",
   "execution_count": 5,
   "id": "105945d1",
   "metadata": {},
   "outputs": [
    {
     "data": {
      "text/plain": [
       "25"
      ]
     },
     "execution_count": 5,
     "metadata": {},
     "output_type": "execute_result"
    }
   ],
   "source": [
    "maximumHeight = [15,10]\n",
    "maximumTotalSum(maximumHeight)"
   ]
  },
  {
   "cell_type": "code",
   "execution_count": 6,
   "id": "3da5046a",
   "metadata": {},
   "outputs": [
    {
     "data": {
      "text/plain": [
       "-1"
      ]
     },
     "execution_count": 6,
     "metadata": {},
     "output_type": "execute_result"
    }
   ],
   "source": [
    "maximumHeight = [2,2,1]\n",
    "maximumTotalSum(maximumHeight)"
   ]
  },
  {
   "cell_type": "code",
   "execution_count": null,
   "id": "28a4b879",
   "metadata": {},
   "outputs": [],
   "source": []
  }
 ],
 "metadata": {
  "kernelspec": {
   "display_name": "Python 3 (ipykernel)",
   "language": "python",
   "name": "python3"
  },
  "language_info": {
   "codemirror_mode": {
    "name": "ipython",
    "version": 3
   },
   "file_extension": ".py",
   "mimetype": "text/x-python",
   "name": "python",
   "nbconvert_exporter": "python",
   "pygments_lexer": "ipython3",
   "version": "3.11.4"
  }
 },
 "nbformat": 4,
 "nbformat_minor": 5
}
