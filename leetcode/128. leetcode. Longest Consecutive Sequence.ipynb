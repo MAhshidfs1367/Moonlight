{
 "cells": [
  {
   "cell_type": "markdown",
   "id": "0c2b1553",
   "metadata": {},
   "source": [
    "Given an unsorted array of integers nums, return the length of the longest consecutive elements sequence.\n",
    "\n",
    "You must write an algorithm that runs in O(n) time.\n",
    "\n",
    " \n",
    "\n",
    "Example 1:\n",
    "\n",
    "Input: nums = [100,4,200,1,3,2]\n",
    "Output: 4\n",
    "Explanation: The longest consecutive elements sequence is [1, 2, 3, 4]. Therefore its length is 4.\n",
    "\n",
    "Input: nums = [1,0,1,2]\n",
    "Output: 3"
   ]
  },
  {
   "cell_type": "code",
   "execution_count": 12,
   "id": "364d776d",
   "metadata": {},
   "outputs": [],
   "source": [
    "def long_cons(nums):\n",
    "    nums = sorted(set(nums))\n",
    "    max_length = 0\n",
    "    length = 1\n",
    "    \n",
    "    if len(nums) == 1:\n",
    "        return 1\n",
    "    for i in range(len(nums) - 1):\n",
    "        if nums[i + 1] - nums[i] == 1:\n",
    "            length += 1\n",
    "        else:\n",
    "            length = 1\n",
    "            \n",
    "        max_length = max(length, max_length)\n",
    "    return max_length      \n",
    "            "
   ]
  },
  {
   "cell_type": "code",
   "execution_count": 11,
   "id": "98666360",
   "metadata": {},
   "outputs": [
    {
     "data": {
      "text/plain": [
       "4"
      ]
     },
     "execution_count": 11,
     "metadata": {},
     "output_type": "execute_result"
    }
   ],
   "source": [
    "nums = [100,4,200,1,3,2]\n",
    "long_cons(nums)\n"
   ]
  },
  {
   "cell_type": "code",
   "execution_count": 15,
   "id": "3938e135",
   "metadata": {},
   "outputs": [
    {
     "data": {
      "text/plain": [
       "9"
      ]
     },
     "execution_count": 15,
     "metadata": {},
     "output_type": "execute_result"
    }
   ],
   "source": [
    "nums = [0,3,7,2,5,8,4,6,0,1]\n",
    "long_cons(nums)"
   ]
  },
  {
   "cell_type": "code",
   "execution_count": 16,
   "id": "49083646",
   "metadata": {},
   "outputs": [
    {
     "data": {
      "text/plain": [
       "3"
      ]
     },
     "execution_count": 16,
     "metadata": {},
     "output_type": "execute_result"
    }
   ],
   "source": [
    "nums = [1,0,1,2]\n",
    "long_cons(nums)"
   ]
  }
 ],
 "metadata": {
  "kernelspec": {
   "display_name": "Python 3 (ipykernel)",
   "language": "python",
   "name": "python3"
  },
  "language_info": {
   "codemirror_mode": {
    "name": "ipython",
    "version": 3
   },
   "file_extension": ".py",
   "mimetype": "text/x-python",
   "name": "python",
   "nbconvert_exporter": "python",
   "pygments_lexer": "ipython3",
   "version": "3.11.4"
  }
 },
 "nbformat": 4,
 "nbformat_minor": 5
}
