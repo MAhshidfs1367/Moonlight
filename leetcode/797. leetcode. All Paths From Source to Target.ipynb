{
 "cells": [
  {
   "cell_type": "markdown",
   "id": "c2a9c602",
   "metadata": {},
   "source": [
    "Given a directed acyclic graph (DAG) of n nodes labeled from 0 to n - 1, find all possible paths from node 0 to node n - 1 and return them in any order.\n",
    "\n",
    "The graph is given as follows: graph[i] is a list of all nodes you can visit from node i (i.e., there is a directed edge from node i to node graph[i][j]).\n",
    "Input: graph = [[1,2],[3],[3],[]]\n",
    "Output: [[0,1,3],[0,2,3]]\n",
    "Explanation: There are two paths: 0 -> 1 -> 3 and 0 -> 2 -> 3.\n",
    "\n",
    "\n",
    "Input: graph = [[4,3,1],[3,2,4],[3],[4],[]]\n",
    "Output: [[0,4],[0,3,4],[0,1,3,4],[0,1,2,3,4],[0,1,4]]\n",
    "\n",
    " "
   ]
  },
  {
   "cell_type": "code",
   "execution_count": 1,
   "id": "521f7550",
   "metadata": {},
   "outputs": [],
   "source": [
    "def AllPathsFromSourcetoTarget(graph):\n",
    "    result = []\n",
    "    def dfs(curnode, path):\n",
    "        if curnode == len(graph) - 1:\n",
    "            result.append(path.copy())\n",
    "        for nei in graph[curnode]:\n",
    "            dfs(nei, path + [nei])\n",
    "    dfs(0, [0]) \n",
    "    return result\n",
    "            \n",
    "            \n",
    "            "
   ]
  },
  {
   "cell_type": "code",
   "execution_count": 2,
   "id": "c5be1b13",
   "metadata": {},
   "outputs": [
    {
     "data": {
      "text/plain": [
       "[[0, 1, 3], [0, 2, 3]]"
      ]
     },
     "execution_count": 2,
     "metadata": {},
     "output_type": "execute_result"
    }
   ],
   "source": [
    "graph = [[1,2],[3],[3],[]]\n",
    "AllPathsFromSourcetoTarget(graph)"
   ]
  },
  {
   "cell_type": "code",
   "execution_count": 3,
   "id": "26d52e6c",
   "metadata": {},
   "outputs": [
    {
     "data": {
      "text/plain": [
       "[[0, 4], [0, 3, 4], [0, 1, 3, 4], [0, 1, 2, 3, 4], [0, 1, 4]]"
      ]
     },
     "execution_count": 3,
     "metadata": {},
     "output_type": "execute_result"
    }
   ],
   "source": [
    "graph = [[4,3,1],[3,2,4],[3],[4],[]]\n",
    "AllPathsFromSourcetoTarget(graph)"
   ]
  },
  {
   "cell_type": "code",
   "execution_count": null,
   "id": "41377e1a",
   "metadata": {},
   "outputs": [],
   "source": []
  }
 ],
 "metadata": {
  "kernelspec": {
   "display_name": "Python 3 (ipykernel)",
   "language": "python",
   "name": "python3"
  },
  "language_info": {
   "codemirror_mode": {
    "name": "ipython",
    "version": 3
   },
   "file_extension": ".py",
   "mimetype": "text/x-python",
   "name": "python",
   "nbconvert_exporter": "python",
   "pygments_lexer": "ipython3",
   "version": "3.11.4"
  }
 },
 "nbformat": 4,
 "nbformat_minor": 5
}
