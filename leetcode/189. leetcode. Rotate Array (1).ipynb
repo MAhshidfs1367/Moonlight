{
 "cells": [
  {
   "cell_type": "markdown",
   "id": "2c44c90e",
   "metadata": {},
   "source": [
    "Given an integer array nums, rotate the array to the right by k steps, where k is non-negative.\n",
    "\n",
    " \n",
    "\n",
    "Example 1:\n",
    "\n",
    "Input: nums = [1,2,3,4,5,6,7], k = 3\n",
    "Output: [5,6,7,1,2,3,4]\n",
    "Explanation:\n",
    "rotate 1 steps to the right: [7,1,2,3,4,5,6]\n",
    "rotate 2 steps to the right: [6,7,1,2,3,4,5]\n",
    "rotate 3 steps to the right: [5,6,7,1,2,3,4]\n",
    "Example 2:\n",
    "\n",
    "Input: nums = [-1,-100,3,99], k = 2\n",
    "Output: [3,99,-1,-100]\n",
    "Explanation: \n",
    "rotate 1 steps to the right: [99,-1,-100,3]\n",
    "rotate 2 steps to the right: [3,99,-1,-100]\n"
   ]
  },
  {
   "cell_type": "markdown",
   "id": "7409065f",
   "metadata": {},
   "source": [
    "Why does the first solution( #First) in the cell below give me a wrong answer?"
   ]
  },
  {
   "cell_type": "code",
   "execution_count": 8,
   "id": "79b2c17b",
   "metadata": {},
   "outputs": [],
   "source": [
    "def rotate(nums,k):\n",
    "    \n",
    "    \"\"\"\n",
    "    Do not return anything, modify nums in-place instead.\n",
    "    \"\"\"\n",
    "    #Third\n",
    "    n = len(nums)\n",
    "    k = k % n\n",
    "    def reverse(l, r):\n",
    "        while l < r:\n",
    "            nums[l], nums[r] = nums[r], nums[l]\n",
    "            l += 1\n",
    "            r -= 1\n",
    "    reverse(0, n - 1)\n",
    "    reverse(0, k - 1)\n",
    "    reverse(k, n - 1)\n",
    "    return nums    \n",
    "\n",
    "\n",
    "        #Second\n",
    "        #k = k % len(nums)\n",
    "        #nums[:] = nums[len(nums) - k:] + nums[:len(nums) - k]\n",
    "        #return nums\n",
    "\n",
    "        #First\n",
    "        #for i in range(k):\n",
    "            #num = nums.pop()\n",
    "            #nums = [num] + nums\n",
    "            #print(nums)\n",
    "        #return nums    "
   ]
  },
  {
   "cell_type": "code",
   "execution_count": 9,
   "id": "22eda978",
   "metadata": {},
   "outputs": [
    {
     "data": {
      "text/plain": [
       "[5, 6, 7, 1, 2, 3, 4]"
      ]
     },
     "execution_count": 9,
     "metadata": {},
     "output_type": "execute_result"
    }
   ],
   "source": [
    "nums = [1,2,3,4,5,6,7]\n",
    "k = 3\n",
    "rotate(nums,k)"
   ]
  },
  {
   "cell_type": "code",
   "execution_count": 10,
   "id": "0ce66e40",
   "metadata": {},
   "outputs": [
    {
     "data": {
      "text/plain": [
       "[3, 99, -1, -100]"
      ]
     },
     "execution_count": 10,
     "metadata": {},
     "output_type": "execute_result"
    }
   ],
   "source": [
    "nums = [-1,-100,3,99]\n",
    "k = 2\n",
    "rotate(nums,k)"
   ]
  },
  {
   "cell_type": "code",
   "execution_count": null,
   "id": "8e960269",
   "metadata": {},
   "outputs": [],
   "source": []
  }
 ],
 "metadata": {
  "kernelspec": {
   "display_name": "Python 3 (ipykernel)",
   "language": "python",
   "name": "python3"
  },
  "language_info": {
   "codemirror_mode": {
    "name": "ipython",
    "version": 3
   },
   "file_extension": ".py",
   "mimetype": "text/x-python",
   "name": "python",
   "nbconvert_exporter": "python",
   "pygments_lexer": "ipython3",
   "version": "3.11.4"
  }
 },
 "nbformat": 4,
 "nbformat_minor": 5
}
